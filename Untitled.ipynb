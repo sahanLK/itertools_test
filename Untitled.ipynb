{
 "cells": [
  {
   "cell_type": "markdown",
   "id": "f31bf276",
   "metadata": {},
   "source": [
    "<h2>Itertools Features</h2>"
   ]
  },
  {
   "cell_type": "code",
   "execution_count": 4,
   "id": "a74270b3",
   "metadata": {},
   "outputs": [],
   "source": [
    "import itertools"
   ]
  },
  {
   "cell_type": "code",
   "execution_count": 5,
   "id": "8358e812",
   "metadata": {},
   "outputs": [],
   "source": [
    "collection = [10, 20, 30, 40, 50]"
   ]
  },
  {
   "cell_type": "markdown",
   "id": "237e4015",
   "metadata": {},
   "source": [
    "<h3>Cycle Iterator to cycle over a Collection</h3>"
   ]
  },
  {
   "cell_type": "code",
   "execution_count": 6,
   "id": "4b4d5ce4",
   "metadata": {},
   "outputs": [],
   "source": [
    "cycle = itertools.cycle(collection)"
   ]
  },
  {
   "cell_type": "code",
   "execution_count": 7,
   "id": "1f424d35",
   "metadata": {},
   "outputs": [
    {
     "data": {
      "text/plain": [
       "10"
      ]
     },
     "execution_count": 7,
     "metadata": {},
     "output_type": "execute_result"
    }
   ],
   "source": [
    "next(cycle)"
   ]
  },
  {
   "cell_type": "code",
   "execution_count": 8,
   "id": "f093a6a7",
   "metadata": {},
   "outputs": [
    {
     "data": {
      "text/plain": [
       "20"
      ]
     },
     "execution_count": 8,
     "metadata": {},
     "output_type": "execute_result"
    }
   ],
   "source": [
    "next(cycle)"
   ]
  },
  {
   "cell_type": "code",
   "execution_count": 9,
   "id": "ae421341",
   "metadata": {},
   "outputs": [
    {
     "data": {
      "text/plain": [
       "30"
      ]
     },
     "execution_count": 9,
     "metadata": {},
     "output_type": "execute_result"
    }
   ],
   "source": [
    "next(cycle)"
   ]
  },
  {
   "cell_type": "markdown",
   "id": "4e4919fa",
   "metadata": {},
   "source": [
    "<br><br><h3>Building up a Simple Counter</h3>"
   ]
  },
  {
   "cell_type": "code",
   "execution_count": 11,
   "id": "a20237f1",
   "metadata": {},
   "outputs": [],
   "source": [
    "counter = itertools.count(100, 50)"
   ]
  },
  {
   "cell_type": "code",
   "execution_count": 12,
   "id": "d91b7ba8",
   "metadata": {},
   "outputs": [
    {
     "data": {
      "text/plain": [
       "100"
      ]
     },
     "execution_count": 12,
     "metadata": {},
     "output_type": "execute_result"
    }
   ],
   "source": [
    "next(counter)"
   ]
  },
  {
   "cell_type": "code",
   "execution_count": 13,
   "id": "7ed46c3f",
   "metadata": {},
   "outputs": [
    {
     "data": {
      "text/plain": [
       "150"
      ]
     },
     "execution_count": 13,
     "metadata": {},
     "output_type": "execute_result"
    }
   ],
   "source": [
    "next(counter)"
   ]
  },
  {
   "cell_type": "code",
   "execution_count": 14,
   "id": "0dfb2006",
   "metadata": {},
   "outputs": [
    {
     "data": {
      "text/plain": [
       "200"
      ]
     },
     "execution_count": 14,
     "metadata": {},
     "output_type": "execute_result"
    }
   ],
   "source": [
    "next(counter)"
   ]
  },
  {
   "cell_type": "markdown",
   "id": "0d3faeee",
   "metadata": {},
   "source": [
    "<br><br><h3>Creating an Accumulator</h3>"
   ]
  },
  {
   "cell_type": "code",
   "execution_count": 19,
   "id": "2d71ea81",
   "metadata": {},
   "outputs": [],
   "source": [
    "accum = itertools.accumulate(collection)"
   ]
  },
  {
   "cell_type": "code",
   "execution_count": 20,
   "id": "9f22e9d5",
   "metadata": {},
   "outputs": [
    {
     "data": {
      "text/plain": [
       "10"
      ]
     },
     "execution_count": 20,
     "metadata": {},
     "output_type": "execute_result"
    }
   ],
   "source": [
    "next(accum)"
   ]
  },
  {
   "cell_type": "code",
   "execution_count": 21,
   "id": "83d46741",
   "metadata": {},
   "outputs": [
    {
     "data": {
      "text/plain": [
       "30"
      ]
     },
     "execution_count": 21,
     "metadata": {},
     "output_type": "execute_result"
    }
   ],
   "source": [
    "next(accum)"
   ]
  },
  {
   "cell_type": "code",
   "execution_count": 22,
   "id": "fc5d60eb",
   "metadata": {},
   "outputs": [
    {
     "data": {
      "text/plain": [
       "60"
      ]
     },
     "execution_count": 22,
     "metadata": {},
     "output_type": "execute_result"
    }
   ],
   "source": [
    "next(accum)"
   ]
  },
  {
   "cell_type": "code",
   "execution_count": 23,
   "id": "7cd157ff",
   "metadata": {},
   "outputs": [
    {
     "data": {
      "text/plain": [
       "100"
      ]
     },
     "execution_count": 23,
     "metadata": {},
     "output_type": "execute_result"
    }
   ],
   "source": [
    "next(accum)"
   ]
  },
  {
   "cell_type": "code",
   "execution_count": null,
   "id": "9ecafc5a",
   "metadata": {},
   "outputs": [],
   "source": []
  }
 ],
 "metadata": {
  "kernelspec": {
   "display_name": "Python 3 (ipykernel)",
   "language": "python",
   "name": "python3"
  },
  "language_info": {
   "codemirror_mode": {
    "name": "ipython",
    "version": 3
   },
   "file_extension": ".py",
   "mimetype": "text/x-python",
   "name": "python",
   "nbconvert_exporter": "python",
   "pygments_lexer": "ipython3",
   "version": "3.8.7"
  }
 },
 "nbformat": 4,
 "nbformat_minor": 5
}
